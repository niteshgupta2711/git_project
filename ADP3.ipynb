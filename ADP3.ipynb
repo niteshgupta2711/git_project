{
 "cells": [
  {
   "cell_type": "markdown",
   "id": "71be51b2",
   "metadata": {},
   "source": [
    "1. Create a function to perform basic arithmetic operations that includes\n",
    "addition, subtraction, multiplication and division on a string number (e.g. &quot;12 +\n",
    "24&quot; or &quot;23 - 21&quot; or &quot;12 // 12&quot; or &quot;12 * 21&quot;).\n",
    "Here, we have 1 followed by a space, operator followed by another space\n",
    "and 2. For the challenge, we are going to have only two numbers between 1\n",
    "valid operator. The return value should be a number.\n",
    "eval() is not allowed. In case of division, whenever the second number equals\n",
    "&quot;0&quot; return -1."
   ]
  },
  {
   "cell_type": "code",
   "execution_count": 6,
   "id": "e102c97b",
   "metadata": {},
   "outputs": [],
   "source": [
    "def mat_op(str1):\n",
    "    import operator\n",
    "    d={\"+\":operator.add,'-':operator.sub,'*':operator.mul,'//':operator.floordiv}\n",
    "    s=str1.split()\n",
    "    return d[s[1]](float(s[0]),float(s[2]))"
   ]
  },
  {
   "cell_type": "code",
   "execution_count": 7,
   "id": "18d60f7a",
   "metadata": {},
   "outputs": [
    {
     "data": {
      "text/plain": [
       "2.0"
      ]
     },
     "execution_count": 7,
     "metadata": {},
     "output_type": "execute_result"
    }
   ],
   "source": [
    "mat_op('6 // 3')"
   ]
  },
  {
   "cell_type": "markdown",
   "id": "6e10f13f",
   "metadata": {},
   "source": [
    "2. Write a function that takes the coordinates of three points in the form of a\n",
    "2d array and returns the perimeter of the triangle. The given points are the\n",
    "vertices of a triangle on a two-dimensional plane.\n",
    "Examples\n",
    "perimeter( [ [15, 7], [5, 22], [11, 1] ] ) ➞ 47.08\n",
    "perimeter( [ [0, 0], [0, 1], [1, 0] ] ) ➞ 3.42\n",
    "perimeter( [ [-10, -10], [10, 10 ], [-10, 10] ] ) ➞ 68.28"
   ]
  },
  {
   "cell_type": "code",
   "execution_count": 10,
   "id": "bbaf5b90",
   "metadata": {},
   "outputs": [],
   "source": [
    "def distance(list1):\n",
    "    import numpy as np\n",
    "    arr=np.array(list1)\n",
    "    return np.sqrt(np.sum(np.square(arr[0]-arr[1])))"
   ]
  },
  {
   "cell_type": "code",
   "execution_count": 13,
   "id": "1cc3dd06",
   "metadata": {},
   "outputs": [],
   "source": [
    "def perimeter(list1):\n",
    "    return distance([list1[0],list1[1]]) + distance([list1[1],list1[2]])+distance([list1[2],list1[0]])"
   ]
  },
  {
   "cell_type": "code",
   "execution_count": 14,
   "id": "8c4a9c86",
   "metadata": {},
   "outputs": [
    {
     "data": {
      "text/plain": [
       "68.2842712474619"
      ]
     },
     "execution_count": 14,
     "metadata": {},
     "output_type": "execute_result"
    }
   ],
   "source": [
    "perimeter([ [-10, -10], [10, 10 ], [-10, 10] ])"
   ]
  },
  {
   "cell_type": "markdown",
   "id": "15772b6d",
   "metadata": {},
   "source": [
    "3. A city skyline can be represented as a 2-D list with 1s representing\n",
    "buildings. In the example below, the height of the tallest building is 4 (second-\n",
    "most right column).\n",
    "[[0, 0, 0, 0, 0, 0],\n",
    "[0, 0, 0, 0, 1, 0],\n",
    "[0, 0, 1, 0, 1, 0],\n",
    "[0, 1, 1, 1, 1, 0],\n",
    "\n",
    "[1, 1, 1, 1, 1, 1]]\n",
    "Create a function that takes a skyline (2-D list of 0&#39;s and 1&#39;s) and returns the\n",
    "height of the tallest skyscraper.\n",
    "Examples\n",
    "tallest_skyscraper([\n",
    "[0, 0, 0, 0],\n",
    "[0, 1, 0, 0],\n",
    "[0, 1, 1, 0],\n",
    "[1, 1, 1, 1]\n",
    "]) ➞ 3\n",
    "tallest_skyscraper([\n",
    "[0, 1, 0, 0],\n",
    "[0, 1, 0, 0],\n",
    "[0, 1, 1, 0],\n",
    "[1, 1, 1, 1]\n",
    "]) ➞ 4\n",
    "tallest_skyscraper([\n",
    "[0, 0, 0, 0],\n",
    "[0, 0, 0, 0],\n",
    "[1, 1, 1, 0],\n",
    "[1, 1, 1, 1]\n",
    "]) ➞ 2"
   ]
  },
  {
   "cell_type": "code",
   "execution_count": 15,
   "id": "e2ed168a",
   "metadata": {},
   "outputs": [],
   "source": [
    "import numpy as np"
   ]
  },
  {
   "cell_type": "code",
   "execution_count": 20,
   "id": "57e49c38",
   "metadata": {},
   "outputs": [],
   "source": [
    "def tallest_sky_scrapper(arr):\n",
    "    arr=np.array(arr)\n",
    "    return np.max(np.sum(arr,axis=0))"
   ]
  },
  {
   "cell_type": "code",
   "execution_count": 21,
   "id": "78dfd56a",
   "metadata": {},
   "outputs": [
    {
     "data": {
      "text/plain": [
       "2"
      ]
     },
     "execution_count": 21,
     "metadata": {},
     "output_type": "execute_result"
    }
   ],
   "source": [
    "tallest_sky_scrapper([ [0, 0, 0, 0], [0, 0, 0, 0], [1, 1, 1, 0], [1, 1, 1, 1] ])"
   ]
  },
  {
   "cell_type": "markdown",
   "id": "baa4748c",
   "metadata": {},
   "source": [
    "4. A financial institution provides professional services to banks and claims\n",
    "charges from the customers based on the number of man-days provided.\n",
    "Internally, it has set a scheme to motivate and reward staff to meet and\n",
    "exceed targeted billable utilization and revenues by paying a bonus for each\n",
    "day claimed from customers in excess of a threshold target.\n",
    "This quarterly scheme is calculated with a threshold target of 32 days per\n",
    "quarter, and the incentive payment for each billable day in excess of such\n",
    "threshold target is shown as follows:\n",
    "Days Bonus\n",
    "0 to 32 days Zero\n",
    "33 to 40 days SGD$325 per billable day\n",
    "41 to 48 days SGD$550 per billable day\n",
    "Greater than 48 days SGD$600 per billable day\n",
    "\n",
    "Please note that incentive payment is calculated progressively. As an\n",
    "example, if an employee reached total billable days of 45 in a quarter, his/her\n",
    "incentive payment is computed as follows:\n",
    "32*0 + 8*325 + 5*550 = 5350\n",
    "Write a function to read the billable days of an employee and return the bonus\n",
    "he/she has obtained in that quarter.\n",
    "Examples\n",
    "bonus(15) ➞ 0\n",
    "bonus(37) ➞ 1625\n",
    "bonus(50) ➞ 8200"
   ]
  },
  {
   "cell_type": "code",
   "execution_count": 39,
   "id": "5aca5c00",
   "metadata": {},
   "outputs": [],
   "source": [
    "def bonus(num):\n",
    "    def rate(con):\n",
    "        if con<=32:\n",
    "            return 0\n",
    "        elif con>32 and con<=40:\n",
    "            return 325\n",
    "        elif con>40 and con<=48:\n",
    "            return 550\n",
    "        else:\n",
    "            return 600\n",
    "        \n",
    "    return sum([rate(x) for x in [i+1 for i in range(num)]])\n",
    "            "
   ]
  },
  {
   "cell_type": "code",
   "execution_count": 40,
   "id": "cc129ea5",
   "metadata": {},
   "outputs": [
    {
     "data": {
      "text/plain": [
       "5350"
      ]
     },
     "execution_count": 40,
     "metadata": {},
     "output_type": "execute_result"
    }
   ],
   "source": [
    "bonus(45)"
   ]
  },
  {
   "cell_type": "code",
   "execution_count": 43,
   "id": "3df31254",
   "metadata": {},
   "outputs": [],
   "source": [
    "def is_disarium(num):\n",
    "    sum=0\n",
    "    for i,value in enumerate([x for x in str(num)]):\n",
    "        sum+=int(value)**(i+1)\n",
    "    if sum==num:\n",
    "        return True\n",
    "    else: return False\n",
    "        "
   ]
  },
  {
   "cell_type": "code",
   "execution_count": 44,
   "id": "d9cf2b93",
   "metadata": {},
   "outputs": [
    {
     "data": {
      "text/plain": [
       "True"
      ]
     },
     "execution_count": 44,
     "metadata": {},
     "output_type": "execute_result"
    }
   ],
   "source": [
    "is_disarium(135)"
   ]
  },
  {
   "cell_type": "code",
   "execution_count": null,
   "id": "0c763c25",
   "metadata": {},
   "outputs": [],
   "source": []
  }
 ],
 "metadata": {
  "kernelspec": {
   "display_name": "Python 3 (ipykernel)",
   "language": "python",
   "name": "python3"
  },
  "language_info": {
   "codemirror_mode": {
    "name": "ipython",
    "version": 3
   },
   "file_extension": ".py",
   "mimetype": "text/x-python",
   "name": "python",
   "nbconvert_exporter": "python",
   "pygments_lexer": "ipython3",
   "version": "3.9.7"
  }
 },
 "nbformat": 4,
 "nbformat_minor": 5
}
